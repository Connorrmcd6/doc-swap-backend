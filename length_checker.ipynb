{
 "cells": [
  {
   "cell_type": "code",
   "execution_count": 15,
   "metadata": {},
   "outputs": [
    {
     "name": "stdout",
     "output_type": "stream",
     "text": [
      "The longest swap file is '1696413589_1.csv' with 9 swaps.\n",
      "Average Swap Size: 4.44\n",
      "Median Swap Size: 4.0\n",
      "10th Percentile: 2.0\n",
      "90th Percentile: 8.0\n",
      "Total Swaps: 71\n"
     ]
    },
    {
     "data": {
      "image/png": "[encoded data removed]",
      "text/plain": [
       "<Figure size 640x480 with 1 Axes>"
      ]
     },
     "metadata": {},
     "output_type": "display_data"
    }
   ],
   "source": [
    "import os\n",
    "import numpy as np\n",
    "import matplotlib.pyplot as plt\n",
    "import csv\n",
    "\n",
    "def find_longest_csv(directory):\n",
    "    longest_length = 0\n",
    "    longest_filename = None\n",
    "    csv_lengths = []  # To store lengths of all CSV files\n",
    "\n",
    "    for root, _, files in os.walk(directory):\n",
    "        for filename in files:\n",
    "            if filename.endswith('.csv'):\n",
    "                file_path = os.path.join(root, filename)\n",
    "                with open(file_path, 'r') as file:\n",
    "                    lines = file.readlines()\n",
    "                    length = len(lines) - 1\n",
    "                    csv_lengths.append(length)  # Store the length for this file\n",
    "                    if length > longest_length:\n",
    "                        longest_length = length\n",
    "                        longest_filename = filename\n",
    "\n",
    "    return longest_length, longest_filename, csv_lengths\n",
    "\n",
    "# Example usage:\n",
    "directory_path = 'swaps'\n",
    "length, filename, csv_lengths = find_longest_csv(directory_path)\n",
    "\n",
    "if length > 0:\n",
    "    print(f\"The longest swap file is '{filename}' with {length} swaps.\")\n",
    "else:\n",
    "    print(\"No CSV files found in the directory.\")\n",
    "\n",
    "# Calculate statistics\n",
    "if csv_lengths:\n",
    "    average_length = np.mean(csv_lengths)\n",
    "    median_length = np.median(csv_lengths)\n",
    "    percentile_10 = np.percentile(csv_lengths, 10)\n",
    "    percentile_90 = np.percentile(csv_lengths, 90)\n",
    "    sum_length = np.sum(csv_lengths)\n",
    "\n",
    "    print(f\"Average Swap Size: {average_length:.2f}\")\n",
    "    print(f\"Median Swap Size: {median_length}\")\n",
    "    print(f\"10th Percentile: {percentile_10}\")\n",
    "    print(f\"90th Percentile: {percentile_90}\")\n",
    "    print(f\"Total Swaps: {sum_length}\")\n",
    "\n",
    "    # Plot a histogram of CSV file lengths\n",
    "    plt.hist(csv_lengths, bins=9, color='skyblue', edgecolor='black', alpha=0.7, label='CSV Lengths')\n",
    "    plt.title('Histogram of Swap Lengths')\n",
    "    plt.xlabel('Length of Swaps')\n",
    "    plt.ylabel('Frequency')\n",
    "    plt.grid(axis='y', linestyle='--', alpha=0.7)\n",
    "    plt.show()\n",
    "else:\n",
    "    print(\"No CSV files found to calculate statistics or plot the histogram.\")\n",
    "\n"
   ]
  },
  {
   "cell_type": "code",
   "execution_count": 2,
   "metadata": {},
   "outputs": [
    {
     "name": "stdout",
     "output_type": "stream",
     "text": [
      "Total records in the output CSV: 1867\n"
     ]
    }
   ],
   "source": [
    "def append_csvs_and_count(directory_path, output_csv_path):\n",
    "    # Initialize a flag to track if the header has been written\n",
    "    header_written = False\n",
    "    # Initialize a counter to keep track of the number of records\n",
    "    total_records = 0\n",
    "\n",
    "    # Iterate over all files in the directory\n",
    "    for filename in os.listdir(directory_path):\n",
    "        if filename.endswith(\".csv\"):\n",
    "            csv_file_path = os.path.join(directory_path, filename)\n",
    "\n",
    "            with open(csv_file_path, mode=\"r\", newline=\"\") as file:\n",
    "                csv_reader = csv.reader(file)\n",
    "                \n",
    "                # Skip the header for all but the first CSV\n",
    "                if not header_written:\n",
    "                    header = next(csv_reader)\n",
    "                    with open(output_csv_path, mode=\"w\", newline=\"\") as output_file:\n",
    "                        csv_writer = csv.writer(output_file)\n",
    "                        csv_writer.writerow(header)\n",
    "                    header_written = True\n",
    "                \n",
    "                # Append the data to the output CSV\n",
    "                with open(output_csv_path, mode=\"a\", newline=\"\") as output_file:\n",
    "                    csv_writer = csv.writer(output_file)\n",
    "                    for row in csv_reader:\n",
    "                        csv_writer.writerow(row)\n",
    "                        total_records += 1\n",
    "\n",
    "    return total_records\n",
    "\n",
    "# Example usage:\n",
    "input_directory = \"./swaps\"\n",
    "output_csv = \"combined.csv\"\n",
    "record_count = append_csvs_and_count(input_directory, output_csv)\n",
    "print(f\"Total records in the output CSV: {record_count}\")\n"
   ]
  },
  {
   "cell_type": "code",
   "execution_count": 7,
   "metadata": {},
   "outputs": [
    {
     "ename": "IndexError",
     "evalue": "list index out of range",
     "output_type": "error",
     "traceback": [
      "\u001b[0;31m---------------------------------------------------------------------------\u001b[0m",
      "\u001b[0;31mIndexError\u001b[0m                                Traceback (most recent call last)",
      "\u001b[1;32m/Users/connormcdonald/Desktop/GitHub/doc-swap-backend/length_checker.ipynb Cell 3\u001b[0m line \u001b[0;36m3\n\u001b[1;32m     <a href='vscode-notebook-cell:/Users/connormcdonald/Desktop/GitHub/doc-swap-backend/length_checker.ipynb#W2sZmlsZQ%3D%3D?line=28'>29</a>\u001b[0m csv_file \u001b[39m=\u001b[39m \u001b[39m\"\u001b[39m\u001b[39mcombined.csv\u001b[39m\u001b[39m\"\u001b[39m\n\u001b[1;32m     <a href='vscode-notebook-cell:/Users/connormcdonald/Desktop/GitHub/doc-swap-backend/length_checker.ipynb#W2sZmlsZQ%3D%3D?line=29'>30</a>\u001b[0m column_to_check \u001b[39m=\u001b[39m \u001b[39m0\u001b[39m  \u001b[39m# Change this to the index of the column you want to check for duplicates\u001b[39;00m\n\u001b[0;32m---> <a href='vscode-notebook-cell:/Users/connormcdonald/Desktop/GitHub/doc-swap-backend/length_checker.ipynb#W2sZmlsZQ%3D%3D?line=30'>31</a>\u001b[0m duplicates \u001b[39m=\u001b[39m find_duplicates_in_csv(csv_file, column_to_check)\n\u001b[1;32m     <a href='vscode-notebook-cell:/Users/connormcdonald/Desktop/GitHub/doc-swap-backend/length_checker.ipynb#W2sZmlsZQ%3D%3D?line=32'>33</a>\u001b[0m \u001b[39mif\u001b[39;00m duplicates:\n\u001b[1;32m     <a href='vscode-notebook-cell:/Users/connormcdonald/Desktop/GitHub/doc-swap-backend/length_checker.ipynb#W2sZmlsZQ%3D%3D?line=33'>34</a>\u001b[0m     \u001b[39mprint\u001b[39m(\u001b[39mf\u001b[39m\u001b[39m\"\u001b[39m\u001b[39mDuplicates found in column \u001b[39m\u001b[39m{\u001b[39;00mcolumn_to_check\u001b[39m}\u001b[39;00m\u001b[39m: \u001b[39m\u001b[39m{\u001b[39;00m\u001b[39m'\u001b[39m\u001b[39m, \u001b[39m\u001b[39m'\u001b[39m\u001b[39m.\u001b[39mjoin(duplicates)\u001b[39m}\u001b[39;00m\u001b[39m\"\u001b[39m)\n",
      "\u001b[1;32m/Users/connormcdonald/Desktop/GitHub/doc-swap-backend/length_checker.ipynb Cell 3\u001b[0m line \u001b[0;36m2\n\u001b[1;32m     <a href='vscode-notebook-cell:/Users/connormcdonald/Desktop/GitHub/doc-swap-backend/length_checker.ipynb#W2sZmlsZQ%3D%3D?line=16'>17</a>\u001b[0m header \u001b[39m=\u001b[39m \u001b[39mnext\u001b[39m(csv_reader)  \u001b[39m# Skip the header row\u001b[39;00m\n\u001b[1;32m     <a href='vscode-notebook-cell:/Users/connormcdonald/Desktop/GitHub/doc-swap-backend/length_checker.ipynb#W2sZmlsZQ%3D%3D?line=18'>19</a>\u001b[0m \u001b[39mfor\u001b[39;00m row \u001b[39min\u001b[39;00m csv_reader:\n\u001b[0;32m---> <a href='vscode-notebook-cell:/Users/connormcdonald/Desktop/GitHub/doc-swap-backend/length_checker.ipynb#W2sZmlsZQ%3D%3D?line=19'>20</a>\u001b[0m     value \u001b[39m=\u001b[39m row[column_index]\n\u001b[1;32m     <a href='vscode-notebook-cell:/Users/connormcdonald/Desktop/GitHub/doc-swap-backend/length_checker.ipynb#W2sZmlsZQ%3D%3D?line=20'>21</a>\u001b[0m     \u001b[39mif\u001b[39;00m value \u001b[39min\u001b[39;00m unique_values:\n\u001b[1;32m     <a href='vscode-notebook-cell:/Users/connormcdonald/Desktop/GitHub/doc-swap-backend/length_checker.ipynb#W2sZmlsZQ%3D%3D?line=21'>22</a>\u001b[0m         duplicate_values\u001b[39m.\u001b[39madd(value)\n",
      "\u001b[0;31mIndexError\u001b[0m: list index out of range"
     ]
    }
   ],
   "source": [
    "def find_duplicates_in_csv(csv_file_path, column_index):\n",
    "    \"\"\"\n",
    "    Check for duplicates in a CSV file based on a specific column.\n",
    "\n",
    "    Args:\n",
    "    csv_file_path (str): Path to the CSV file.\n",
    "    column_index (int): Index of the column to check for duplicates (0-based).\n",
    "\n",
    "    Returns:\n",
    "    list: List of duplicate values found in the specified column.\n",
    "    \"\"\"\n",
    "    duplicate_values = set()\n",
    "    unique_values = set()\n",
    "\n",
    "    with open(csv_file_path, mode=\"r\", newline=\"\") as file:\n",
    "        csv_reader = csv.reader(file)\n",
    "        header = next(csv_reader)  # Skip the header row\n",
    "\n",
    "        for row in csv_reader:\n",
    "            value = row[column_index]\n",
    "            if value in unique_values:\n",
    "                duplicate_values.add(value)\n",
    "            else:\n",
    "                unique_values.add(value)\n",
    "\n",
    "    return list(duplicate_values)\n",
    "\n",
    "# Example usage:\n",
    "csv_file = \"combined.csv\"\n",
    "column_to_check = 0  # Change this to the index of the column you want to check for duplicates\n",
    "duplicates = find_duplicates_in_csv(csv_file, column_to_check)\n",
    "\n",
    "if duplicates:\n",
    "    print(f\"Duplicates found in column {column_to_check}: {', '.join(duplicates)}\")\n",
    "else:\n",
    "    print(\"No duplicates found.\")\n"
   ]
  },
  {
   "cell_type": "code",
   "execution_count": 6,
   "metadata": {},
   "outputs": [
    {
     "data": {
      "text/plain": [
       "['email']"
      ]
     },
     "execution_count": 6,
     "metadata": {},
     "output_type": "execute_result"
    }
   ],
   "source": [
    "\n"
   ]
  }
 ],
 "metadata": {
  "kernelspec": {
   "display_name": "base",
   "language": "python",
   "name": "python3"
  },
  "language_info": {
   "codemirror_mode": {
    "name": "ipython",
    "version": 3
   },
   "file_extension": ".py",
   "mimetype": "text/x-python",
   "name": "python",
   "nbconvert_exporter": "python",
   "pygments_lexer": "ipython3",
   "version": "3.8.8"
  },
  "orig_nbformat": 4
 },
 "nbformat": 4,
 "nbformat_minor": 2
}
